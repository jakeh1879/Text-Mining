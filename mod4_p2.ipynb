{
  "nbformat": 4,
  "nbformat_minor": 0,
  "metadata": {
    "colab": {
      "provenance": []
    },
    "kernelspec": {
      "name": "python3",
      "display_name": "Python 3"
    },
    "language_info": {
      "name": "python"
    }
  },
  "cells": [
    {
      "cell_type": "code",
      "execution_count": 1,
      "metadata": {
        "id": "QvBZ0xBhjqgK"
      },
      "outputs": [],
      "source": [
        "import pandas as pd\n",
        "import numpy as np\n",
        "import matplotlib.pyplot as plt\n",
        "from sklearn.feature_extraction.text import CountVectorizer\n",
        "from sklearn.cluster import AgglomerativeClustering\n",
        "from scipy.cluster.hierarchy import dendrogram, linkage\n",
        "from sklearn.feature_extraction.text import ENGLISH_STOP_WORDS\n",
        "import re"
      ]
    },
    {
      "cell_type": "code",
      "source": [
        "# Load text file and resolve formatting issues\n",
        "with open(\"yelp.csv\", \"r\", encoding=\"utf-8\") as file:\n",
        "   comments = [re.sub(r'[^a-zA-Z\\s]', '', line.strip().lower()) for line in file.readlines() if line.strip()]"
      ],
      "metadata": {
        "id": "Q3xVdXgrj1X0"
      },
      "execution_count": 2,
      "outputs": []
    },
    {
      "cell_type": "code",
      "source": [
        "# Convert text to binary term-document matrix for top 5 terms\n",
        "vectorizer = CountVectorizer(stop_words='english', max_features=5, binary=True)\n",
        "binary_matrix = vectorizer.fit_transform(comments).toarray()\n",
        "terms = vectorizer.get_feature_names_out()"
      ],
      "metadata": {
        "id": "pN5q-nZ3j8KU"
      },
      "execution_count": 3,
      "outputs": []
    },
    {
      "cell_type": "code",
      "source": [
        "# Convert matrix to DataFrame for top 5 terms\n",
        "binary_df = pd.DataFrame(binary_matrix, columns=terms)\n",
        "print(\"Binary Term-Document Matrix (Top 5 terms):\")\n",
        "print(binary_df)\n",
        "# Top 5 terms are dish, food, good, great, pizza"
      ],
      "metadata": {
        "colab": {
          "base_uri": "https://localhost:8080/"
        },
        "id": "Tl1GqmCVj-hz",
        "outputId": "bf087f32-b3d7-44ee-a1e0-f3f4478e672e"
      },
      "execution_count": 4,
      "outputs": [
        {
          "output_type": "stream",
          "name": "stdout",
          "text": [
            "Binary Term-Document Matrix (Top 5 terms):\n",
            "    dish  food  good  great  pizza\n",
            "0      0     0     0      0      0\n",
            "1      0     1     1      0      0\n",
            "2      0     1     0      1      0\n",
            "3      0     1     1      1      1\n",
            "4      0     0     0      0      0\n",
            "5      0     0     0      0      0\n",
            "6      0     0     0      0      1\n",
            "7      0     0     0      0      0\n",
            "8      0     0     1      1      1\n",
            "9      0     1     0      0      1\n",
            "10     0     0     0      0      0\n",
            "11     1     1     1      0      1\n",
            "12     0     0     0      0      0\n",
            "13     0     0     0      0      1\n",
            "14     0     0     0      0      0\n",
            "15     0     0     1      0      0\n",
            "16     1     0     0      0      1\n",
            "17     0     1     1      1      0\n",
            "18     1     0     0      0      1\n",
            "19     1     0     1      0      1\n",
            "20     1     0     1      1      0\n"
          ]
        }
      ]
    },
    {
      "cell_type": "code",
      "source": [
        "# Compute linkage for hierarchical clustering\n",
        "linkage_matrix = linkage(binary_matrix, method='ward')"
      ],
      "metadata": {
        "id": "M2uzqk6lkJgc"
      },
      "execution_count": 5,
      "outputs": []
    },
    {
      "cell_type": "code",
      "source": [
        "cluster = AgglomerativeClustering(n_clusters=2, metric='euclidean', linkage='ward')\n",
        "labels = cluster.fit_predict(binary_matrix)"
      ],
      "metadata": {
        "id": "80j1rg4VkNKs"
      },
      "execution_count": 8,
      "outputs": []
    },
    {
      "cell_type": "code",
      "source": [
        "results_df = pd.DataFrame({\n",
        "    'Comment': comments,\n",
        "    'Cluster': labels\n",
        "})\n",
        "print(\"\\nCustomer Comments with Cluster Labels:\")\n",
        "print(results_df.sort_values(by='Cluster'))\n",
        "\n",
        "# Cluster 0 is general comments about the food - including negative\n",
        "# Cluster 1 includes comments about the food including positive terms like good or great"
      ],
      "metadata": {
        "colab": {
          "base_uri": "https://localhost:8080/"
        },
        "id": "yKJBop4PkPbD",
        "outputId": "a4681116-f230-416a-d51b-878d67096c8f"
      },
      "execution_count": 9,
      "outputs": [
        {
          "output_type": "stream",
          "name": "stdout",
          "text": [
            "\n",
            "Customer Comments with Cluster Labels:\n",
            "                                              Comment  Cluster\n",
            "0   love the fooddo not have any complaints favori...        0\n",
            "18  this place is famous for their deep dish pizza...        0\n",
            "16  love this place super friendly staff and the p...        0\n",
            "14  amazing pasta and meatballs i was so happy to ...        0\n",
            "13                     the stuffed pizza is excellent        0\n",
            "12  fantastico i had the manicotti and it was mout...        0\n",
            "11  real deep dish pan pizza chicago style worth f...        0\n",
            "19  the only good dish i have had here was the piz...        0\n",
            "9   food  we ordered the chicken alfredo pizza mus...        0\n",
            "10  the manicotti is made with a homemade crepe in...        0\n",
            "7   way way way overrated i stopped going here aft...        0\n",
            "6   a definite five stars for the pizza and their ...        0\n",
            "5                                   best gnocchi ever        0\n",
            "4   the special was tortellini with pesto sauce  s...        0\n",
            "3   really great pizza pie the service was good an...        1\n",
            "15  their pizzas are good their spaghetti not so m...        1\n",
            "2   it was absolutely the best atmosphere was grea...        1\n",
            "17  not too pretty on the eyes but great italian f...        1\n",
            "1   food is delicious and fresh many options to ch...        1\n",
            "8   the chicken was so dry and the alfredo sauce w...        1\n",
            "20  the lasagna was great  when it comes to lasagn...        1\n"
          ]
        }
      ]
    }
  ]
}